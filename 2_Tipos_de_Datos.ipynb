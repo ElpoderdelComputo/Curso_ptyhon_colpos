{
  "nbformat": 4,
  "nbformat_minor": 0,
  "metadata": {
    "colab": {
      "provenance": []
    },
    "kernelspec": {
      "name": "python3",
      "display_name": "Python 3"
    },
    "language_info": {
      "name": "python"
    }
  },
  "cells": [
    {
      "cell_type": "markdown",
      "source": [
        "# **Tipos de Datos**\n",
        "\n",
        "**¿Qué son los tipos de datos?**\n",
        "\n",
        "Los tipos de datos son clasificaciones que determinan qué tipo de valores puede almacenar una variable y qué operaciones se pueden realizar con ella. En programación, los datos pueden ser números, texto, valores booleanos, estructuras de datos más complejas, etc.\n",
        "\n",
        "**¿En qué se diferencian?**\n",
        "\n",
        "Los tipos de datos se diferencian en varias características clave:\n",
        "\n",
        "La naturaleza del dato\n",
        "\n",
        "\n",
        "*   Numéricos (int, float, complex)\n",
        "*   Texto (str)\n",
        "*   Booleanos (bool)\n",
        "*   Colecciones (list, tuple, set, dict)\n",
        "\n",
        "Mutabilidad\n",
        "\n",
        "*   Mutables: pueden cambiar después de ser creados (list, set, dict).\n",
        "*   Inmutables: no pueden modificarse (int, float, str, tuple).\n",
        "\n",
        "Orden y unicidad\n",
        "\n",
        "*   Ordenados: mantienen el orden de los elementos (list, tuple, str).\n",
        "*   Desordenados: no garantizan un orden fijo (set, dict).\n",
        "*   Sin duplicados: no permiten valores repetidos (set).\n",
        "\n",
        "**¿Para qué se utilizan los tipos de datos?**\n",
        "\n",
        "Los tipos de datos se utilizan para:\n",
        "\n",
        "✅ Almacenar información correctamente (Ej: usar int para edades y str para nombres).\n",
        "\n",
        "✅ Optimizar el uso de la memoria (Python asigna espacio según el tipo de dato).\n",
        "\n",
        "✅ Realizar operaciones específicas (Ej: sumar números, concatenar texto).\n",
        "\n",
        "✅ Estructurar los datos de manera eficiente (Ej: usar un dict para representar una ficha de usuario).\n",
        "\n",
        "✅ Evitar errores en el código (Ej: no se puede sumar un número y un texto directamente).\n",
        "\n",
        "\n"
      ],
      "metadata": {
        "id": "guaBPq-2yonS"
      }
    },
    {
      "cell_type": "markdown",
      "source": [
        "# Datos básicos en Python"
      ],
      "metadata": {
        "id": "HQu4fTJV4tVb"
      }
    },
    {
      "cell_type": "markdown",
      "source": [
        "# 1.- Enteros (int)"
      ],
      "metadata": {
        "id": "90fovI7E46ik"
      }
    },
    {
      "cell_type": "code",
      "execution_count": null,
      "metadata": {
        "id": "08oHhvjMymbL"
      },
      "outputs": [],
      "source": [
        "# Ejemplos\n",
        "edad = 25\n",
        "altura = 175"
      ]
    },
    {
      "cell_type": "code",
      "source": [
        "print(type(altura))"
      ],
      "metadata": {
        "id": "aCkJeBchz8du",
        "colab": {
          "base_uri": "https://localhost:8080/"
        },
        "outputId": "61096af8-5bcd-4262-de34-4b4327155d94"
      },
      "execution_count": null,
      "outputs": [
        {
          "output_type": "stream",
          "name": "stdout",
          "text": [
            "<class 'int'>\n"
          ]
        }
      ]
    },
    {
      "cell_type": "code",
      "source": [
        "# Función print: incorporada en Python que se utiliza para mostrar texto o valores en la consola.\n",
        "print(edad)"
      ],
      "metadata": {
        "id": "Nst13qBn5YeU",
        "colab": {
          "base_uri": "https://localhost:8080/"
        },
        "outputId": "891592d9-ae56-4361-f2d0-6a73b935ecce"
      },
      "execution_count": null,
      "outputs": [
        {
          "output_type": "stream",
          "name": "stdout",
          "text": [
            "25\n"
          ]
        }
      ]
    },
    {
      "cell_type": "code",
      "source": [
        "print('La edad es: ', edad)"
      ],
      "metadata": {
        "id": "FBYE4Dlq75lp",
        "colab": {
          "base_uri": "https://localhost:8080/"
        },
        "outputId": "0d436042-4b88-4a33-880e-fd4fd52206d3"
      },
      "execution_count": null,
      "outputs": [
        {
          "output_type": "stream",
          "name": "stdout",
          "text": [
            "La edad es:  25\n"
          ]
        }
      ]
    },
    {
      "cell_type": "code",
      "source": [
        "# int: Números enteros\n",
        "a = 5\n",
        "b = 3\n",
        "\n",
        "producto = a * b\n",
        "print('El producto de a * b es: ',producto)\n",
        "print(type(producto))"
      ],
      "metadata": {
        "id": "4Ad0HyZz8WLQ",
        "colab": {
          "base_uri": "https://localhost:8080/"
        },
        "outputId": "5070259d-c0f6-4da8-ae84-cfbdb753f6a6"
      },
      "execution_count": null,
      "outputs": [
        {
          "output_type": "stream",
          "name": "stdout",
          "text": [
            "El producto de a * b es:  15\n",
            "<class 'int'>\n"
          ]
        }
      ]
    },
    {
      "cell_type": "markdown",
      "source": [
        "# 2.- Flotantes (float)"
      ],
      "metadata": {
        "id": "DL23H-7j81Eq"
      }
    },
    {
      "cell_type": "code",
      "source": [
        "precio = 99.99\n",
        "descuento = 0.15\n",
        "print(type(precio))"
      ],
      "metadata": {
        "id": "bztwJ_t589xz",
        "colab": {
          "base_uri": "https://localhost:8080/"
        },
        "outputId": "432113ee-1128-4186-e973-031e29104f1e"
      },
      "execution_count": null,
      "outputs": [
        {
          "output_type": "stream",
          "name": "stdout",
          "text": [
            "<class 'float'>\n"
          ]
        }
      ]
    },
    {
      "cell_type": "code",
      "source": [
        "print(type(descuento))"
      ],
      "metadata": {
        "id": "su-Us2aU-c_u",
        "colab": {
          "base_uri": "https://localhost:8080/"
        },
        "outputId": "b524f101-1d55-44a3-c9c0-bbf9da6a5338"
      },
      "execution_count": null,
      "outputs": [
        {
          "output_type": "stream",
          "name": "stdout",
          "text": [
            "<class 'float'>\n"
          ]
        }
      ]
    },
    {
      "cell_type": "code",
      "source": [
        "precio_final = precio * (1 - descuento)\n",
        "print('El precio final es: ',precio_final)\n"
      ],
      "metadata": {
        "id": "vGrIXBcI9CWE",
        "colab": {
          "base_uri": "https://localhost:8080/"
        },
        "outputId": "f1cd994e-cf76-4c98-9d75-55d6fa3e53fd"
      },
      "execution_count": null,
      "outputs": [
        {
          "output_type": "stream",
          "name": "stdout",
          "text": [
            "El precio final es:  84.99149999999999\n"
          ]
        }
      ]
    },
    {
      "cell_type": "code",
      "source": [
        "# divide a / b\n",
        "\n",
        "division = a / b\n",
        "print('La división de a / b es: ',division)"
      ],
      "metadata": {
        "id": "iJUVXKjx93-0",
        "colab": {
          "base_uri": "https://localhost:8080/"
        },
        "outputId": "3125cd9e-c583-4201-d981-c64ae9a33134"
      },
      "execution_count": null,
      "outputs": [
        {
          "output_type": "stream",
          "name": "stdout",
          "text": [
            "La división de a / b es:  1.6666666666666667\n"
          ]
        }
      ]
    },
    {
      "cell_type": "code",
      "source": [
        "# Formatear salida f-strings\n",
        "print(f\"EL precio de {precio} tiene un {descuento*100} % de descuento\")"
      ],
      "metadata": {
        "colab": {
          "base_uri": "https://localhost:8080/"
        },
        "id": "jgLxFfCL1HXZ",
        "outputId": "e3d3de09-fb7b-4698-93bc-b74da5c01f91"
      },
      "execution_count": null,
      "outputs": [
        {
          "output_type": "stream",
          "name": "stdout",
          "text": [
            "EL precio de 99.99 tiene un 15.0 % de descuento\n"
          ]
        }
      ]
    },
    {
      "cell_type": "code",
      "source": [
        "print(f\"La division de a / b es: {division}\")"
      ],
      "metadata": {
        "colab": {
          "base_uri": "https://localhost:8080/"
        },
        "id": "dzMnkGeL2lCH",
        "outputId": "f2160391-0259-4e94-efc0-0d0c3f71fa4f"
      },
      "execution_count": null,
      "outputs": [
        {
          "output_type": "stream",
          "name": "stdout",
          "text": [
            "La division de a / b es: 1.6666666666666667\n"
          ]
        }
      ]
    },
    {
      "cell_type": "code",
      "source": [
        "print(f\"La division de a / b es: {division:.2f}\")"
      ],
      "metadata": {
        "colab": {
          "base_uri": "https://localhost:8080/"
        },
        "id": "kTGwPNOG3A_n",
        "outputId": "e70dea14-0cef-46d1-de1e-d9e975ed60a5"
      },
      "execution_count": null,
      "outputs": [
        {
          "output_type": "stream",
          "name": "stdout",
          "text": [
            "La division de a / b es: 1.67\n"
          ]
        }
      ]
    },
    {
      "cell_type": "markdown",
      "source": [
        "# 3.- Cadenas (str)"
      ],
      "metadata": {
        "id": "z6VsgGrSHCTQ"
      }
    },
    {
      "cell_type": "code",
      "source": [
        "nombre = \"José\"\n",
        "print(type(nombre))"
      ],
      "metadata": {
        "id": "kEy1mmUOHI7H",
        "colab": {
          "base_uri": "https://localhost:8080/"
        },
        "outputId": "c2dad2af-ac3b-42ae-efc9-72de28e781cc"
      },
      "execution_count": null,
      "outputs": [
        {
          "output_type": "stream",
          "name": "stdout",
          "text": [
            "<class 'str'>\n"
          ]
        }
      ]
    },
    {
      "cell_type": "code",
      "source": [
        "saludo = 'Hola'\n",
        "print(saludo, nombre)"
      ],
      "metadata": {
        "id": "F5oRbQD5HiFO",
        "colab": {
          "base_uri": "https://localhost:8080/"
        },
        "outputId": "300cb915-3de2-4a04-a3eb-95095aa53f9e"
      },
      "execution_count": null,
      "outputs": [
        {
          "output_type": "stream",
          "name": "stdout",
          "text": [
            "Hola José\n"
          ]
        }
      ]
    },
    {
      "cell_type": "code",
      "source": [
        "apellidos = 'Rodríguez Rosales'"
      ],
      "metadata": {
        "id": "N6xIZ1ukIJFl"
      },
      "execution_count": null,
      "outputs": []
    },
    {
      "cell_type": "code",
      "source": [
        "# Mostrar nombre completo\n",
        "\n",
        "print('Estimado', nombre, apellidos)"
      ],
      "metadata": {
        "id": "O45rj2dMIQ_c",
        "colab": {
          "base_uri": "https://localhost:8080/"
        },
        "outputId": "8cf1d130-7b1c-4d7e-b6e4-e8c6b5c3f20d"
      },
      "execution_count": null,
      "outputs": [
        {
          "output_type": "stream",
          "name": "stdout",
          "text": [
            "Estimado José Rodríguez Rosales\n"
          ]
        }
      ]
    },
    {
      "cell_type": "code",
      "source": [
        " # Operador + en cadenas\n",
        "instructor = nombre + apellidos\n",
        "\n",
        "print('El instructor del curso se llama: ', instructor)"
      ],
      "metadata": {
        "id": "iy4B89LmKNh8",
        "colab": {
          "base_uri": "https://localhost:8080/"
        },
        "outputId": "17c1768c-065a-4716-ffa8-7b844b2379f0"
      },
      "execution_count": null,
      "outputs": [
        {
          "output_type": "stream",
          "name": "stdout",
          "text": [
            "El instructor del curso se llama:  JoséRodríguez Rosales\n"
          ]
        }
      ]
    },
    {
      "cell_type": "code",
      "source": [
        "# Agregando un espacio\n",
        "instructor = nombre + \" \" + apellidos\n",
        "\n",
        "print('El instructor del curso se llama: ', instructor)"
      ],
      "metadata": {
        "id": "bVCLb3eyMx_U",
        "colab": {
          "base_uri": "https://localhost:8080/"
        },
        "outputId": "68b26db7-337a-4f3b-daa7-d315d1060082"
      },
      "execution_count": null,
      "outputs": [
        {
          "output_type": "stream",
          "name": "stdout",
          "text": [
            "El instructor del curso se llama:  José Rodríguez Rosales\n"
          ]
        }
      ]
    },
    {
      "cell_type": "markdown",
      "source": [
        "# 4.- Boleanos (true or false)"
      ],
      "metadata": {
        "id": "SMXWYJKKNZIV"
      }
    },
    {
      "cell_type": "code",
      "source": [
        "es_mayor = True\n",
        "print(type(es_mayor))\n",
        "y = False\n",
        "print(type(y))"
      ],
      "metadata": {
        "id": "frQgk2p-N2YP",
        "colab": {
          "base_uri": "https://localhost:8080/"
        },
        "outputId": "4eb472c8-ad29-4e21-dbd2-fa84459d2666"
      },
      "execution_count": null,
      "outputs": [
        {
          "output_type": "stream",
          "name": "stdout",
          "text": [
            "<class 'bool'>\n",
            "<class 'bool'>\n"
          ]
        }
      ]
    },
    {
      "cell_type": "code",
      "source": [
        "# declarar variables\n",
        "\n",
        "e = 7\n",
        "f = 9\n",
        "\n",
        "son_iguales = (e == f)\n",
        "print(son_iguales)"
      ],
      "metadata": {
        "id": "kU6GVyPKNfat",
        "colab": {
          "base_uri": "https://localhost:8080/"
        },
        "outputId": "9a006031-e41e-4c63-8760-43c123448687"
      },
      "execution_count": null,
      "outputs": [
        {
          "output_type": "stream",
          "name": "stdout",
          "text": [
            "False\n"
          ]
        }
      ]
    },
    {
      "cell_type": "code",
      "source": [
        "# Evaluar expresiones\n",
        "e == f"
      ],
      "metadata": {
        "id": "teSFjPb1O64Z",
        "colab": {
          "base_uri": "https://localhost:8080/"
        },
        "outputId": "2426abfd-b1d4-4936-ac63-576e6ee5b883"
      },
      "execution_count": null,
      "outputs": [
        {
          "output_type": "execute_result",
          "data": {
            "text/plain": [
              "False"
            ]
          },
          "metadata": {},
          "execution_count": 29
        }
      ]
    },
    {
      "cell_type": "code",
      "source": [
        "print(e != f)  # Diferente de: !="
      ],
      "metadata": {
        "id": "kiDEQIVjN1ZX",
        "colab": {
          "base_uri": "https://localhost:8080/"
        },
        "outputId": "6adbe36d-9356-4a6b-ee0d-a5155ae475bd"
      },
      "execution_count": null,
      "outputs": [
        {
          "output_type": "stream",
          "name": "stdout",
          "text": [
            "True\n"
          ]
        }
      ]
    },
    {
      "cell_type": "markdown",
      "source": [
        "# 5.- Conversión entre tipos de datos"
      ],
      "metadata": {
        "id": "rVhT6HFVPyS1"
      }
    },
    {
      "cell_type": "code",
      "source": [
        "# Convertir entero a cadena\n",
        "numero = 10\n",
        "numero_por_cinco = numero * 5\n",
        "print(numero_por_cinco, type(numero_por_cinco))  # Output: 50 <class 'int'>\n"
      ],
      "metadata": {
        "colab": {
          "base_uri": "https://localhost:8080/"
        },
        "id": "fZ3HILaSQNk_",
        "outputId": "918abaf9-1777-42a0-dd56-fdb087646bbc"
      },
      "execution_count": null,
      "outputs": [
        {
          "output_type": "stream",
          "name": "stdout",
          "text": [
            "50 <class 'int'>\n"
          ]
        }
      ]
    },
    {
      "cell_type": "code",
      "source": [
        "texto = str(numero)\n",
        "print(texto, type(texto))  # Output: '10' <class 'str'>"
      ],
      "metadata": {
        "colab": {
          "base_uri": "https://localhost:8080/"
        },
        "id": "raSFkEDmSZGY",
        "outputId": "775de4ca-97be-4a03-a42f-4bd83dd31701"
      },
      "execution_count": null,
      "outputs": [
        {
          "output_type": "stream",
          "name": "stdout",
          "text": [
            "10 <class 'str'>\n"
          ]
        }
      ]
    },
    {
      "cell_type": "code",
      "source": [
        "texto_por_cinco = texto * 5\n",
        "print(texto_por_cinco, type(texto_por_cinco))  # Output: '1010101010' <class 'str'>"
      ],
      "metadata": {
        "colab": {
          "base_uri": "https://localhost:8080/"
        },
        "id": "b3qvrqknShE5",
        "outputId": "8b8d44a4-de9c-4602-e224-520974ae970d"
      },
      "execution_count": null,
      "outputs": [
        {
          "output_type": "stream",
          "name": "stdout",
          "text": [
            "1010101010 <class 'str'>\n"
          ]
        }
      ]
    },
    {
      "cell_type": "code",
      "source": [
        "# Convertir cadena a número\n",
        "numero_convertido = int(\"20\")\n",
        "print(numero_convertido, type(numero_convertido))  # Output: 20 <class 'int'>\n"
      ],
      "metadata": {
        "id": "Rgd8ew7uQTUA"
      },
      "execution_count": null,
      "outputs": []
    },
    {
      "cell_type": "markdown",
      "source": [
        "# 6.- Ejercicios prácticos"
      ],
      "metadata": {
        "id": "bDtGZcqdDuEq"
      }
    },
    {
      "cell_type": "code",
      "source": [
        "'''1.- Un programa que pide el total de la cuenta en un restaurante,\n",
        "calcula la propina y muestra un mensaje personalizado.'''\n",
        "\n",
        "# Cuenta = float(input(\"Ingrese el total de la cuenta: \"))\n",
        "cuenta = 100.00\n",
        "\n",
        "## Completa el ejercicio\n",
        "# Calcula Pripina\n",
        "propina =   # 15% de propina\n",
        "\n",
        "# Calcula el total pagar\n",
        "\n",
        "print(f\"Subtotal: {cuenta:.2f}\")\n",
        "print(f\"Propina (15%): {propina:.2f}\")\n",
        "print(f\"Total a pagar: {total_pagar:.2f}\")\n"
      ],
      "metadata": {
        "colab": {
          "base_uri": "https://localhost:8080/"
        },
        "id": "9BysJxZtCz8w",
        "outputId": "f8e6b944-9ce1-4df2-b7c6-8de264d69023"
      },
      "execution_count": 31,
      "outputs": [
        {
          "output_type": "stream",
          "name": "stdout",
          "text": [
            "Ingrese el total de la cuenta: 458\n",
            "Subtotal: 458.00\n",
            "Propina (15%): 68.70\n",
            "Total a pagar: 526.70\n"
          ]
        }
      ]
    },
    {
      "cell_type": "code",
      "source": [
        "''' 2.- Crear un saludo personalizado basado en el nombre y la edad.'''\n",
        "\n",
        "# nombre = input(\"¿Cuál es tu nombre? \")\n",
        "# edad = int(input(\"¿Cuántos años tienes? \"))\n",
        "\n",
        "# Solicitar nombre y edad\n",
        "nombre = \"Juan\"\n",
        "edad = 25\n",
        "\n",
        "mensaje = f\"Hola, {nombre}. \"\n",
        "if edad >= 18:\n",
        "    mensaje += \"Eres mayor de edad, ¡bienvenido!\"\n",
        "else:\n",
        "    mensaje += \"Aún eres menor de edad, disfruta tu juventud.\"\n",
        "\n",
        "print(mensaje)"
      ],
      "metadata": {
        "colab": {
          "base_uri": "https://localhost:8080/"
        },
        "id": "AVHkrUEiEU90",
        "outputId": "7f29df80-db9a-4d1a-a43d-5530c365abf7"
      },
      "execution_count": 32,
      "outputs": [
        {
          "output_type": "stream",
          "name": "stdout",
          "text": [
            "¿Cuál es tu nombre? José\n",
            "¿Cuántos años tienes? 33\n",
            "Hola, José. Eres mayor de edad, ¡bienvenido!\n"
          ]
        }
      ]
    },
    {
      "cell_type": "code",
      "source": [],
      "metadata": {
        "id": "J5W1tui1FBdO"
      },
      "execution_count": null,
      "outputs": []
    }
  ]
}